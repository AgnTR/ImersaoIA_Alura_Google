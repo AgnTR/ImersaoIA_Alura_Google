{
  "nbformat": 4,
  "nbformat_minor": 0,
  "metadata": {
    "colab": {
      "provenance": [],
      "authorship_tag": "ABX9TyPnU4ATvZ0aNyUC78jkvAwA",
      "include_colab_link": true
    },
    "kernelspec": {
      "name": "python3",
      "display_name": "Python 3"
    },
    "language_info": {
      "name": "python"
    }
  },
  "cells": [
    {
      "cell_type": "markdown",
      "metadata": {
        "id": "view-in-github",
        "colab_type": "text"
      },
      "source": [
        "<a href=\"https://colab.research.google.com/github/AgnTR/ImersaoIA_Alura_Google/blob/main/Imersao_IA_Alura_Google.ipynb\" target=\"_parent\"><img src=\"https://colab.research.google.com/assets/colab-badge.svg\" alt=\"Open In Colab\"/></a>"
      ]
    },
    {
      "cell_type": "markdown",
      "source": [
        "# Validação de Produto/Serviço com Personas usando IA\n",
        "Objetivo: criar um modelo de IA que gere personas e com base em suas características e personalidades emita opinião sobre determinado produto/serviço para que seja emitida uma avaliação do produto/serviço e possíveis melhorias.\n",
        "\n",
        "Autor: Agnaldo Teodoro Rodrigues"
      ],
      "metadata": {
        "id": "-dP0RCXk7pFJ"
      }
    },
    {
      "cell_type": "markdown",
      "source": [
        "Instalação das bibliotecas necessárias"
      ],
      "metadata": {
        "id": "vHMxDAhX7uo6"
      }
    },
    {
      "cell_type": "code",
      "execution_count": 15,
      "metadata": {
        "id": "LPAf600nf_mc"
      },
      "outputs": [],
      "source": [
        "!pip install -q -U google-generativeai"
      ]
    },
    {
      "cell_type": "markdown",
      "source": [
        "Importação das bibliotecas necessárias"
      ],
      "metadata": {
        "id": "G0-QcVM673nr"
      }
    },
    {
      "cell_type": "code",
      "source": [
        "from IPython.display import clear_output\n",
        "import google.generativeai as genai\n",
        "from google.colab import userdata\n",
        "import pandas as pd"
      ],
      "metadata": {
        "id": "Wn1AgDc2gDKO"
      },
      "execution_count": 16,
      "outputs": []
    },
    {
      "cell_type": "markdown",
      "source": [
        "Funçoes criadas"
      ],
      "metadata": {
        "id": "UmZRrynM77pe"
      }
    },
    {
      "cell_type": "code",
      "source": [
        "def criar_lista_personas():\n",
        "  \"\"\"\n",
        "  Função para criar uma lista de personas com nome da persona e sua personalidades, não permitindo nomes duplicados.\n",
        "\n",
        "  Retorna:\n",
        "    Uma lista de dicionários com as informações coletadas do usuário.\n",
        "  \"\"\"\n",
        "  lista_personas = []\n",
        "  while True:\n",
        "    nome = input(\"Digite o nome da persona: \")\n",
        "    if nome == \"\":\n",
        "      break\n",
        "    if any(persona[\"nome\"] == nome for persona in lista_personas):\n",
        "      print(f\"O nome '{nome}' já foi adicionado. Tente outro nome.\")\n",
        "      continue\n",
        "    personalidade = input(f\"Digite a personalidade de {nome}: \")\n",
        "    nova_persona = {\"nome\": nome, \"personalidade\": personalidade}\n",
        "    lista_personas.append(nova_persona)\n",
        "    clear_output()  # Limpa a saída anterior\n",
        "  return lista_personas"
      ],
      "metadata": {
        "id": "lraF352dgfqG"
      },
      "execution_count": 17,
      "outputs": []
    },
    {
      "cell_type": "code",
      "source": [
        "def exibir_informacoes(personas):\n",
        "  \"\"\"\n",
        "  Função para percorrer a lista de personas criada.\n",
        "\n",
        "  Argumento:\n",
        "    personas: lista de personas criada.\n",
        "  \"\"\"\n",
        "  for indice, persona in enumerate(personas):\n",
        "    nome = persona[\"nome\"]\n",
        "    personalidade = persona[\"personalidade\"]\n",
        "    print(f\"{indice + 1}. Nome: {nome}\")\n",
        "    print(f\"  Personalidade: {personalidade}\")\n",
        "    print()  # Adiciona uma linha em branco entre cada persona"
      ],
      "metadata": {
        "id": "nbLNGeE7gonb"
      },
      "execution_count": 18,
      "outputs": []
    },
    {
      "cell_type": "code",
      "source": [
        "def gera_categorizacao(resultado_pesquisa):\n",
        "  \"\"\"\n",
        "  Função para gerar a categorização da resposta das personas.\n",
        "  O objetivo aqui não é identificar a persona e a categoria de sua resposta, é apenas categorizar a resposta\n",
        "    para se emitir uma avaliação posterior da pesquisa\n",
        "\n",
        "  Argumentos:\n",
        "    resultado_pesquisa: contém a opinião das personas sobre o produto/serviço pesquisado\n",
        "\n",
        "  Retorna:\n",
        "    Lista a categoria da resposta\n",
        "  \"\"\"\n",
        "\n",
        "  # aqui são usadas as variáveis de configuração novamente para caso haja a necessidade de mudança nelas somente\n",
        "  # para esta função.\n",
        "\n",
        "  #configurações gerais\n",
        "  generation_config = {\n",
        "    \"candidate_count\": 1,\n",
        "    \"temperature\": 0.9\n",
        "  }\n",
        "\n",
        "  #configurações de segurança\n",
        "  safety_settings = {\n",
        "    \"HARASSMENT\": \"BLOCK_MEDIUM_AND_ABOVE\",\n",
        "    \"HATE\": \"BLOCK_MEDIUM_AND_ABOVE\",\n",
        "    \"SEXUAL\": \"BLOCK_MEDIUM_AND_ABOVE\",\n",
        "    \"DANGEROUS\": \"BLOCK_MEDIUM_AND_ABOVE\"\n",
        "  }\n",
        "\n",
        "  model = genai.GenerativeModel(\n",
        "    model_name = \"gemini-1.5-pro-latest\",\n",
        "    generation_config = generation_config,\n",
        "    safety_settings = safety_settings\n",
        "  )\n",
        "\n",
        "  resultado = []\n",
        "  for resposta in resultado_pesquisa:\n",
        "    response = model.generate_content('Classifique a seguinte opinião retornando somente se foi boa, média ou ruim: ' + resposta[\"resposta\"])\n",
        "    resultado.append(response.text)\n",
        "\n",
        "  return resultado"
      ],
      "metadata": {
        "id": "qgk6LHkyg4Jk"
      },
      "execution_count": 19,
      "outputs": []
    },
    {
      "cell_type": "markdown",
      "source": [
        "Usando a chave"
      ],
      "metadata": {
        "id": "W5CfwtcZ8TuY"
      }
    },
    {
      "cell_type": "code",
      "source": [
        "user_key = userdata.get('MY_KEY')\n",
        "genai.configure(api_key = user_key)"
      ],
      "metadata": {
        "id": "U66z3mwXg9rS"
      },
      "execution_count": 26,
      "outputs": []
    },
    {
      "cell_type": "markdown",
      "source": [
        "Realizando configurações gerais"
      ],
      "metadata": {
        "id": "tsucbQ4h8uw7"
      }
    },
    {
      "cell_type": "code",
      "source": [
        "#configurações gerais\n",
        "generation_config = {\n",
        "    \"candidate_count\": 1,\n",
        "    \"temperature\": 0.5\n",
        "}\n",
        "\n",
        "#configurações de segurança\n",
        "safety_settings = {\n",
        "    \"HARASSMENT\": \"BLOCK_MEDIUM_AND_ABOVE\",\n",
        "    \"HATE\": \"BLOCK_MEDIUM_AND_ABOVE\",\n",
        "    \"SEXUAL\": \"BLOCK_MEDIUM_AND_ABOVE\",\n",
        "    \"DANGEROUS\": \"BLOCK_MEDIUM_AND_ABOVE\"\n",
        "}"
      ],
      "metadata": {
        "id": "LPTkCaTenb0i"
      },
      "execution_count": 21,
      "outputs": []
    },
    {
      "cell_type": "markdown",
      "source": [
        "Criando a lista de personas.<br>\n",
        "Aqui o usuário poderá criar suas próprias personas ou caso ele queira pode importar uma lista de dicionário de personas com as chaves \"nome\"e \"personalidade\".<br>\n",
        "Quanto mais detalhar a personalidade melhor será para o modelo emitir uma opinião sobre o produto/serviço que se quer avaliar.<br>\n",
        "Obs: para encerrar a entrada de dados de personas basta deixar o campo nome em branco e teclar ENTER."
      ],
      "metadata": {
        "id": "qi30qot982fI"
      }
    },
    {
      "cell_type": "code",
      "source": [
        "personas = criar_lista_personas()"
      ],
      "metadata": {
        "colab": {
          "base_uri": "https://localhost:8080/"
        },
        "id": "7TyjdVcjhA6L",
        "outputId": "840b82d8-7c1d-4417-fecf-c24c7975f569"
      },
      "execution_count": null,
      "outputs": [
        {
          "name": "stdout",
          "output_type": "stream",
          "text": [
            "Digite o nome da persona: \n"
          ]
        }
      ]
    },
    {
      "cell_type": "markdown",
      "source": [
        "Listagem para conferência das personas criadas"
      ],
      "metadata": {
        "id": "4BiaJujF9oL0"
      }
    },
    {
      "cell_type": "code",
      "source": [
        "exibir_informacoes(personas)"
      ],
      "metadata": {
        "colab": {
          "base_uri": "https://localhost:8080/"
        },
        "id": "jSw8pJ09hFU_",
        "outputId": "1cd223cf-6718-4aae-9443-f01d563a5daa"
      },
      "execution_count": 22,
      "outputs": [
        {
          "output_type": "stream",
          "name": "stdout",
          "text": [
            "1. Nome: André\n",
            "  Personalidade: Gosta de futebol e trabalha numa farmácia. É ambicioso e estuda muito.\n",
            "\n",
            "2. Nome: José\n",
            "  Personalidade: Cabeleireiro que sonha ter seu próprio salão para atender pessoas famosas.\n",
            "\n",
            "3. Nome: Maria\n",
            "  Personalidade: Mulher dedicada ao trabalho e cuidar da família, gosta de esportes radicais e ama fazer trilha.\n",
            "\n",
            "4. Nome: Geraldo\n",
            "  Personalidade: Garçom que está cursando faculdade de direito e quer se tornar juíz.\n",
            "\n",
            "5. Nome: Márcia\n",
            "  Personalidade: Empresária do ramo da moda, ama viajar e gosta de curtir a vida com leveza.\n",
            "\n"
          ]
        }
      ]
    },
    {
      "cell_type": "markdown",
      "source": [
        "Aqui é definida a pergunta da pesquisa com as personas. A pergunta será sobre um determinado produto ou serviço."
      ],
      "metadata": {
        "id": "77g3_p4i9tOR"
      }
    },
    {
      "cell_type": "code",
      "source": [
        "pergunta = input('Informe a pergunta para o produto/serviço: ')"
      ],
      "metadata": {
        "colab": {
          "base_uri": "https://localhost:8080/"
        },
        "id": "l7FcqxyemWJN",
        "outputId": "2a10b7bc-1b2d-4165-be9e-19a3b6f9eba3"
      },
      "execution_count": null,
      "outputs": [
        {
          "name": "stdout",
          "output_type": "stream",
          "text": [
            "Informe a pergunta para o produto/serviço: Bicicleta estilosa para passeio com a família, leve e muito bonita.\n"
          ]
        }
      ]
    },
    {
      "cell_type": "markdown",
      "source": [
        "Gerando as opiniões das personas para a pergunta estipulada.<br>\n",
        "OBS: FOI REALIZADA A TENTATIVA DE RODAR NOVAMENTE O MODELO COM NOVAS PERSONAS E MELHORIA NA GERAÇÃO DA RESPOSTA ONDE ELES RESPONDEM COMO CONSUMIDORES DO PRODUTO/SERVIÇO MESMO, PORÉM DEU ERRO DE EXCESSO DE QUOTA. OS RESULTADO DAQUI PARA FRENTE SÃO DA EXECUÇÃO ANTERIOR DO MODELO, COM A MESMA PERGUNTA PORÉM COM UMA LISTA DE PERSONAS UM POUCO DIFERENTE APENAS."
      ],
      "metadata": {
        "id": "Z3vFAdtR97t4"
      }
    },
    {
      "cell_type": "code",
      "source": [
        "opinioes = []\n",
        "for persona in personas:\n",
        "  nome = persona[\"nome\"]\n",
        "\n",
        "  model = genai.GenerativeModel(\n",
        "      model_name = \"gemini-1.5-pro-latest\",\n",
        "      generation_config = generation_config,\n",
        "      safety_settings = safety_settings,\n",
        "      system_instruction = \"Responda com se fosse uma pessoa cosumidora com a seguinte personalidade: \" + persona[\"personalidade\"]\n",
        "  )\n",
        "\n",
        "  resposta = model.generate_content(pergunta).text\n",
        "\n",
        "  opiniao = {\"nome\": nome, \"resposta\": resposta}\n",
        "  opinioes.append(opiniao)"
      ],
      "metadata": {
        "id": "p2qSx2FJmbnj",
        "colab": {
          "base_uri": "https://localhost:8080/",
          "height": 456
        },
        "outputId": "61548ff0-cfa4-4ce6-dba4-6c2611e28673"
      },
      "execution_count": 27,
      "outputs": [
        {
          "output_type": "stream",
          "name": "stderr",
          "text": [
            "WARNING:tornado.access:429 POST /v1beta/models/gemini-1.5-pro-latest:generateContent?%24alt=json%3Benum-encoding%3Dint (127.0.0.1) 510.74ms\n"
          ]
        },
        {
          "output_type": "error",
          "ename": "TooManyRequests",
          "evalue": "429 POST https://generativelanguage.googleapis.com/v1beta/models/gemini-1.5-pro-latest:generateContent?%24alt=json%3Benum-encoding%3Dint: Resource has been exhausted (e.g. check quota).",
          "traceback": [
            "\u001b[0;31m---------------------------------------------------------------------------\u001b[0m",
            "\u001b[0;31mTooManyRequests\u001b[0m                           Traceback (most recent call last)",
            "\u001b[0;32m<ipython-input-27-11d9191c4399>\u001b[0m in \u001b[0;36m<cell line: 2>\u001b[0;34m()\u001b[0m\n\u001b[1;32m     10\u001b[0m   )\n\u001b[1;32m     11\u001b[0m \u001b[0;34m\u001b[0m\u001b[0m\n\u001b[0;32m---> 12\u001b[0;31m   \u001b[0mresposta\u001b[0m \u001b[0;34m=\u001b[0m \u001b[0mmodel\u001b[0m\u001b[0;34m.\u001b[0m\u001b[0mgenerate_content\u001b[0m\u001b[0;34m(\u001b[0m\u001b[0mpergunta\u001b[0m\u001b[0;34m)\u001b[0m\u001b[0;34m.\u001b[0m\u001b[0mtext\u001b[0m\u001b[0;34m\u001b[0m\u001b[0;34m\u001b[0m\u001b[0m\n\u001b[0m\u001b[1;32m     13\u001b[0m \u001b[0;34m\u001b[0m\u001b[0m\n\u001b[1;32m     14\u001b[0m   \u001b[0mopiniao\u001b[0m \u001b[0;34m=\u001b[0m \u001b[0;34m{\u001b[0m\u001b[0;34m\"nome\"\u001b[0m\u001b[0;34m:\u001b[0m \u001b[0mnome\u001b[0m\u001b[0;34m,\u001b[0m \u001b[0;34m\"resposta\"\u001b[0m\u001b[0;34m:\u001b[0m \u001b[0mresposta\u001b[0m\u001b[0;34m}\u001b[0m\u001b[0;34m\u001b[0m\u001b[0;34m\u001b[0m\u001b[0m\n",
            "\u001b[0;32m/usr/local/lib/python3.10/dist-packages/google/generativeai/generative_models.py\u001b[0m in \u001b[0;36mgenerate_content\u001b[0;34m(self, contents, generation_config, safety_settings, stream, tools, tool_config, request_options)\u001b[0m\n\u001b[1;32m    260\u001b[0m                 \u001b[0;32mreturn\u001b[0m \u001b[0mgeneration_types\u001b[0m\u001b[0;34m.\u001b[0m\u001b[0mGenerateContentResponse\u001b[0m\u001b[0;34m.\u001b[0m\u001b[0mfrom_iterator\u001b[0m\u001b[0;34m(\u001b[0m\u001b[0miterator\u001b[0m\u001b[0;34m)\u001b[0m\u001b[0;34m\u001b[0m\u001b[0;34m\u001b[0m\u001b[0m\n\u001b[1;32m    261\u001b[0m             \u001b[0;32melse\u001b[0m\u001b[0;34m:\u001b[0m\u001b[0;34m\u001b[0m\u001b[0;34m\u001b[0m\u001b[0m\n\u001b[0;32m--> 262\u001b[0;31m                 response = self._client.generate_content(\n\u001b[0m\u001b[1;32m    263\u001b[0m                     \u001b[0mrequest\u001b[0m\u001b[0;34m,\u001b[0m\u001b[0;34m\u001b[0m\u001b[0;34m\u001b[0m\u001b[0m\n\u001b[1;32m    264\u001b[0m                     \u001b[0;34m**\u001b[0m\u001b[0mrequest_options\u001b[0m\u001b[0;34m,\u001b[0m\u001b[0;34m\u001b[0m\u001b[0;34m\u001b[0m\u001b[0m\n",
            "\u001b[0;32m/usr/local/lib/python3.10/dist-packages/google/ai/generativelanguage_v1beta/services/generative_service/client.py\u001b[0m in \u001b[0;36mgenerate_content\u001b[0;34m(self, request, model, contents, retry, timeout, metadata)\u001b[0m\n\u001b[1;32m    789\u001b[0m \u001b[0;34m\u001b[0m\u001b[0m\n\u001b[1;32m    790\u001b[0m         \u001b[0;31m# Send the request.\u001b[0m\u001b[0;34m\u001b[0m\u001b[0;34m\u001b[0m\u001b[0m\n\u001b[0;32m--> 791\u001b[0;31m         response = rpc(\n\u001b[0m\u001b[1;32m    792\u001b[0m             \u001b[0mrequest\u001b[0m\u001b[0;34m,\u001b[0m\u001b[0;34m\u001b[0m\u001b[0;34m\u001b[0m\u001b[0m\n\u001b[1;32m    793\u001b[0m             \u001b[0mretry\u001b[0m\u001b[0;34m=\u001b[0m\u001b[0mretry\u001b[0m\u001b[0;34m,\u001b[0m\u001b[0;34m\u001b[0m\u001b[0;34m\u001b[0m\u001b[0m\n",
            "\u001b[0;32m/usr/local/lib/python3.10/dist-packages/google/api_core/gapic_v1/method.py\u001b[0m in \u001b[0;36m__call__\u001b[0;34m(self, timeout, retry, *args, **kwargs)\u001b[0m\n\u001b[1;32m    111\u001b[0m             \u001b[0mkwargs\u001b[0m\u001b[0;34m[\u001b[0m\u001b[0;34m\"metadata\"\u001b[0m\u001b[0;34m]\u001b[0m \u001b[0;34m=\u001b[0m \u001b[0mmetadata\u001b[0m\u001b[0;34m\u001b[0m\u001b[0;34m\u001b[0m\u001b[0m\n\u001b[1;32m    112\u001b[0m \u001b[0;34m\u001b[0m\u001b[0m\n\u001b[0;32m--> 113\u001b[0;31m         \u001b[0;32mreturn\u001b[0m \u001b[0mwrapped_func\u001b[0m\u001b[0;34m(\u001b[0m\u001b[0;34m*\u001b[0m\u001b[0margs\u001b[0m\u001b[0;34m,\u001b[0m \u001b[0;34m**\u001b[0m\u001b[0mkwargs\u001b[0m\u001b[0;34m)\u001b[0m\u001b[0;34m\u001b[0m\u001b[0;34m\u001b[0m\u001b[0m\n\u001b[0m\u001b[1;32m    114\u001b[0m \u001b[0;34m\u001b[0m\u001b[0m\n\u001b[1;32m    115\u001b[0m \u001b[0;34m\u001b[0m\u001b[0m\n",
            "\u001b[0;32m/usr/local/lib/python3.10/dist-packages/google/api_core/retry.py\u001b[0m in \u001b[0;36mretry_wrapped_func\u001b[0;34m(*args, **kwargs)\u001b[0m\n\u001b[1;32m    347\u001b[0m                 \u001b[0mself\u001b[0m\u001b[0;34m.\u001b[0m\u001b[0m_initial\u001b[0m\u001b[0;34m,\u001b[0m \u001b[0mself\u001b[0m\u001b[0;34m.\u001b[0m\u001b[0m_maximum\u001b[0m\u001b[0;34m,\u001b[0m \u001b[0mmultiplier\u001b[0m\u001b[0;34m=\u001b[0m\u001b[0mself\u001b[0m\u001b[0;34m.\u001b[0m\u001b[0m_multiplier\u001b[0m\u001b[0;34m\u001b[0m\u001b[0;34m\u001b[0m\u001b[0m\n\u001b[1;32m    348\u001b[0m             )\n\u001b[0;32m--> 349\u001b[0;31m             return retry_target(\n\u001b[0m\u001b[1;32m    350\u001b[0m                 \u001b[0mtarget\u001b[0m\u001b[0;34m,\u001b[0m\u001b[0;34m\u001b[0m\u001b[0;34m\u001b[0m\u001b[0m\n\u001b[1;32m    351\u001b[0m                 \u001b[0mself\u001b[0m\u001b[0;34m.\u001b[0m\u001b[0m_predicate\u001b[0m\u001b[0;34m,\u001b[0m\u001b[0;34m\u001b[0m\u001b[0;34m\u001b[0m\u001b[0m\n",
            "\u001b[0;32m/usr/local/lib/python3.10/dist-packages/google/api_core/retry.py\u001b[0m in \u001b[0;36mretry_target\u001b[0;34m(target, predicate, sleep_generator, timeout, on_error, **kwargs)\u001b[0m\n\u001b[1;32m    189\u001b[0m     \u001b[0;32mfor\u001b[0m \u001b[0msleep\u001b[0m \u001b[0;32min\u001b[0m \u001b[0msleep_generator\u001b[0m\u001b[0;34m:\u001b[0m\u001b[0;34m\u001b[0m\u001b[0;34m\u001b[0m\u001b[0m\n\u001b[1;32m    190\u001b[0m         \u001b[0;32mtry\u001b[0m\u001b[0;34m:\u001b[0m\u001b[0;34m\u001b[0m\u001b[0;34m\u001b[0m\u001b[0m\n\u001b[0;32m--> 191\u001b[0;31m             \u001b[0;32mreturn\u001b[0m \u001b[0mtarget\u001b[0m\u001b[0;34m(\u001b[0m\u001b[0;34m)\u001b[0m\u001b[0;34m\u001b[0m\u001b[0;34m\u001b[0m\u001b[0m\n\u001b[0m\u001b[1;32m    192\u001b[0m \u001b[0;34m\u001b[0m\u001b[0m\n\u001b[1;32m    193\u001b[0m         \u001b[0;31m# pylint: disable=broad-except\u001b[0m\u001b[0;34m\u001b[0m\u001b[0;34m\u001b[0m\u001b[0m\n",
            "\u001b[0;32m/usr/local/lib/python3.10/dist-packages/google/api_core/timeout.py\u001b[0m in \u001b[0;36mfunc_with_timeout\u001b[0;34m(*args, **kwargs)\u001b[0m\n\u001b[1;32m    118\u001b[0m                 \u001b[0mkwargs\u001b[0m\u001b[0;34m[\u001b[0m\u001b[0;34m\"timeout\"\u001b[0m\u001b[0;34m]\u001b[0m \u001b[0;34m=\u001b[0m \u001b[0mmax\u001b[0m\u001b[0;34m(\u001b[0m\u001b[0;36m0\u001b[0m\u001b[0;34m,\u001b[0m \u001b[0mself\u001b[0m\u001b[0;34m.\u001b[0m\u001b[0m_timeout\u001b[0m \u001b[0;34m-\u001b[0m \u001b[0mtime_since_first_attempt\u001b[0m\u001b[0;34m)\u001b[0m\u001b[0;34m\u001b[0m\u001b[0;34m\u001b[0m\u001b[0m\n\u001b[1;32m    119\u001b[0m \u001b[0;34m\u001b[0m\u001b[0m\n\u001b[0;32m--> 120\u001b[0;31m             \u001b[0;32mreturn\u001b[0m \u001b[0mfunc\u001b[0m\u001b[0;34m(\u001b[0m\u001b[0;34m*\u001b[0m\u001b[0margs\u001b[0m\u001b[0;34m,\u001b[0m \u001b[0;34m**\u001b[0m\u001b[0mkwargs\u001b[0m\u001b[0;34m)\u001b[0m\u001b[0;34m\u001b[0m\u001b[0;34m\u001b[0m\u001b[0m\n\u001b[0m\u001b[1;32m    121\u001b[0m \u001b[0;34m\u001b[0m\u001b[0m\n\u001b[1;32m    122\u001b[0m         \u001b[0;32mreturn\u001b[0m \u001b[0mfunc_with_timeout\u001b[0m\u001b[0;34m\u001b[0m\u001b[0;34m\u001b[0m\u001b[0m\n",
            "\u001b[0;32m/usr/local/lib/python3.10/dist-packages/google/api_core/grpc_helpers.py\u001b[0m in \u001b[0;36merror_remapped_callable\u001b[0;34m(*args, **kwargs)\u001b[0m\n\u001b[1;32m     70\u001b[0m     \u001b[0;32mdef\u001b[0m \u001b[0merror_remapped_callable\u001b[0m\u001b[0;34m(\u001b[0m\u001b[0;34m*\u001b[0m\u001b[0margs\u001b[0m\u001b[0;34m,\u001b[0m \u001b[0;34m**\u001b[0m\u001b[0mkwargs\u001b[0m\u001b[0;34m)\u001b[0m\u001b[0;34m:\u001b[0m\u001b[0;34m\u001b[0m\u001b[0;34m\u001b[0m\u001b[0m\n\u001b[1;32m     71\u001b[0m         \u001b[0;32mtry\u001b[0m\u001b[0;34m:\u001b[0m\u001b[0;34m\u001b[0m\u001b[0;34m\u001b[0m\u001b[0m\n\u001b[0;32m---> 72\u001b[0;31m             \u001b[0;32mreturn\u001b[0m \u001b[0mcallable_\u001b[0m\u001b[0;34m(\u001b[0m\u001b[0;34m*\u001b[0m\u001b[0margs\u001b[0m\u001b[0;34m,\u001b[0m \u001b[0;34m**\u001b[0m\u001b[0mkwargs\u001b[0m\u001b[0;34m)\u001b[0m\u001b[0;34m\u001b[0m\u001b[0;34m\u001b[0m\u001b[0m\n\u001b[0m\u001b[1;32m     73\u001b[0m         \u001b[0;32mexcept\u001b[0m \u001b[0mgrpc\u001b[0m\u001b[0;34m.\u001b[0m\u001b[0mRpcError\u001b[0m \u001b[0;32mas\u001b[0m \u001b[0mexc\u001b[0m\u001b[0;34m:\u001b[0m\u001b[0;34m\u001b[0m\u001b[0;34m\u001b[0m\u001b[0m\n\u001b[1;32m     74\u001b[0m             \u001b[0;32mraise\u001b[0m \u001b[0mexceptions\u001b[0m\u001b[0;34m.\u001b[0m\u001b[0mfrom_grpc_error\u001b[0m\u001b[0;34m(\u001b[0m\u001b[0mexc\u001b[0m\u001b[0;34m)\u001b[0m \u001b[0;32mfrom\u001b[0m \u001b[0mexc\u001b[0m\u001b[0;34m\u001b[0m\u001b[0;34m\u001b[0m\u001b[0m\n",
            "\u001b[0;32m/usr/local/lib/python3.10/dist-packages/google/ai/generativelanguage_v1beta/services/generative_service/transports/rest.py\u001b[0m in \u001b[0;36m__call__\u001b[0;34m(self, request, retry, timeout, metadata)\u001b[0m\n\u001b[1;32m    844\u001b[0m             \u001b[0;31m# subclass.\u001b[0m\u001b[0;34m\u001b[0m\u001b[0;34m\u001b[0m\u001b[0m\n\u001b[1;32m    845\u001b[0m             \u001b[0;32mif\u001b[0m \u001b[0mresponse\u001b[0m\u001b[0;34m.\u001b[0m\u001b[0mstatus_code\u001b[0m \u001b[0;34m>=\u001b[0m \u001b[0;36m400\u001b[0m\u001b[0;34m:\u001b[0m\u001b[0;34m\u001b[0m\u001b[0;34m\u001b[0m\u001b[0m\n\u001b[0;32m--> 846\u001b[0;31m                 \u001b[0;32mraise\u001b[0m \u001b[0mcore_exceptions\u001b[0m\u001b[0;34m.\u001b[0m\u001b[0mfrom_http_response\u001b[0m\u001b[0;34m(\u001b[0m\u001b[0mresponse\u001b[0m\u001b[0;34m)\u001b[0m\u001b[0;34m\u001b[0m\u001b[0;34m\u001b[0m\u001b[0m\n\u001b[0m\u001b[1;32m    847\u001b[0m \u001b[0;34m\u001b[0m\u001b[0m\n\u001b[1;32m    848\u001b[0m             \u001b[0;31m# Return the response\u001b[0m\u001b[0;34m\u001b[0m\u001b[0;34m\u001b[0m\u001b[0m\n",
            "\u001b[0;31mTooManyRequests\u001b[0m: 429 POST https://generativelanguage.googleapis.com/v1beta/models/gemini-1.5-pro-latest:generateContent?%24alt=json%3Benum-encoding%3Dint: Resource has been exhausted (e.g. check quota)."
          ]
        }
      ]
    },
    {
      "cell_type": "markdown",
      "source": [
        "Listagem das opiniões dadas sobre a pesquisa"
      ],
      "metadata": {
        "id": "0lmQ0Blz-mG2"
      }
    },
    {
      "cell_type": "code",
      "source": [
        "opinioes"
      ],
      "metadata": {
        "colab": {
          "base_uri": "https://localhost:8080/"
        },
        "id": "TVPqnheRmi8B",
        "outputId": "78eb876d-b595-4f17-f08b-5c45fb3c3003"
      },
      "execution_count": null,
      "outputs": [
        {
          "output_type": "execute_result",
          "data": {
            "text/plain": [
              "[{'nome': 'Mário',\n",
              "  'resposta': 'Cara, preciso de uma bike nova! Essa que tenho tá detonada, preciso de algo estiloso pra andar com a galera e com a família. Tava pensando numa bike leve, pra aguentar umas trilhas leves, sabe? Mas que também seja bonita pra usar na cidade. Me recomenda alguma? Ah, e de preferência que não custe um rim, né? 😅💸  Tô investindo na minha futura clínica! 😂 \\n'},\n",
              " {'nome': 'Márcia',\n",
              "  'resposta': 'Aiiii que tudo! 😍 Adoro! Me fala, você prefere algo mais vintage, retrô, ou moderna? 🤔  Temos cada modelo lindooo! 💖 Perfeitas para um passeio no calçadão da praia! 🌴☀️ Imagina só, você, a família, sentindo a brisa do mar... 🌊 É tudo de bom! 🙌 Me conta mais sobre o que você busca que te mostro as melhores opções! 😉 \\n'},\n",
              " {'nome': 'Paula',\n",
              "  'resposta': 'Ai, meu bem, você quer uma bicicleta estilosa para passear com a família? Que ideia maravilhosa! Me lembra aqueles filmes coreanos, sabe? Família feliz pedalando em um dia de sol... 🥰 \\n\\nMas me fale mais, meu anjo! Você prefere cores vibrantes ou algo mais clássico? E o tamanho? Precisa ser adequada para todos, né?  E o mais importante: confortável! Não queremos ninguém cansado no meio do passeio. \\n\\nAh, e seus filhos já andam de bicicleta? Se precisar de cadeirinha, me avisa! 😉  Me conte tudo para que a gente encontre a bicicleta perfeita! 💖 \\n'},\n",
              " {'nome': 'Pedro',\n",
              "  'resposta': 'Ô meu querido, você veio ao lugar certo! Família e passeio, né? Isso me lembra a gente! Olha, tenho umas bicicletas aqui que são a cara da sua família. Estilosas, leves, parece que flutuam! E bonitas? Vão fazer inveja na vizinhança! Vem cá, vou te mostrar umas belezinhas que vão deixar seus passeios ainda mais especiais. 😉 \\n'}]"
            ]
          },
          "metadata": {},
          "execution_count": 17
        }
      ]
    },
    {
      "cell_type": "markdown",
      "source": [
        "Aqui é feita a categorização das resposta pelo Gemini como boa, média ou ruim."
      ],
      "metadata": {
        "id": "a6Yar_2l_DlG"
      }
    },
    {
      "cell_type": "code",
      "source": [
        "model = genai.GenerativeModel(\n",
        "  model_name = \"gemini-1.5-pro-latest\",\n",
        "  generation_config = generation_config,\n",
        "  safety_settings = safety_settings\n",
        ")\n",
        "\n",
        "resposta_categorizada = []\n",
        "for resposta in opinioes:\n",
        "  response = model.generate_content('Classifique a seguinte opinião retornando somente se foi boa, média ou ruim: ' + resposta[\"resposta\"])\n",
        "  resposta_categorizada.append(response.text)"
      ],
      "metadata": {
        "id": "_v8PjhunoWFj"
      },
      "execution_count": null,
      "outputs": []
    },
    {
      "cell_type": "markdown",
      "source": [
        "Listagem das respostas categorizadas.<br>\n",
        "Não é necessária a identificação o objetivo é apenas saber no geral se o produto/serviço será bem aceito."
      ],
      "metadata": {
        "id": "9dLH2dSj_UPN"
      }
    },
    {
      "cell_type": "code",
      "source": [
        "resposta_categorizada"
      ],
      "metadata": {
        "colab": {
          "base_uri": "https://localhost:8080/"
        },
        "id": "yYpXLSqroiIT",
        "outputId": "700d91d1-b410-4f4d-a3d3-941c5ce8115e"
      },
      "execution_count": null,
      "outputs": [
        {
          "output_type": "execute_result",
          "data": {
            "text/plain": [
              "['Média. \\n', 'Boa \\n', 'Boa \\n', 'Boa \\n']"
            ]
          },
          "metadata": {},
          "execution_count": 21
        }
      ]
    },
    {
      "cell_type": "markdown",
      "source": [
        "Melhoria na apresentação do resultado da pesquisa"
      ],
      "metadata": {
        "id": "CFNFUlq2_lZz"
      }
    },
    {
      "cell_type": "code",
      "source": [
        "resultado_pesquisa = pd.Series(resposta_categorizada)"
      ],
      "metadata": {
        "id": "pjDFydF1pddw"
      },
      "execution_count": null,
      "outputs": []
    },
    {
      "cell_type": "code",
      "source": [
        "# contato a ocorrência de cada valor\n",
        "value_counts = resultado_pesquisa.value_counts()"
      ],
      "metadata": {
        "id": "k_2RlrsCpy6_"
      },
      "execution_count": null,
      "outputs": []
    },
    {
      "cell_type": "code",
      "source": [
        "# convertendo em porcentagens\n",
        "percentages = value_counts / resultado_pesquisa.size * 100"
      ],
      "metadata": {
        "id": "MAXIfFD9p-fg"
      },
      "execution_count": null,
      "outputs": []
    },
    {
      "cell_type": "code",
      "source": [
        "# criando um dataframe\n",
        "df = pd.DataFrame({'Resultado': value_counts.index, 'Contagem': value_counts.values, 'Porcentagem': percentages.values})"
      ],
      "metadata": {
        "id": "SjohAu8MqIoE"
      },
      "execution_count": null,
      "outputs": []
    },
    {
      "cell_type": "code",
      "source": [
        "df"
      ],
      "metadata": {
        "colab": {
          "base_uri": "https://localhost:8080/",
          "height": 125
        },
        "id": "L8VllnNYqVY-",
        "outputId": "926f66f8-3d01-47bb-a768-3d5760307555"
      },
      "execution_count": null,
      "outputs": [
        {
          "output_type": "execute_result",
          "data": {
            "text/plain": [
              "   Resultado  Contagem  Porcentagem\n",
              "0     Boa \\n         3         75.0\n",
              "1  Média. \\n         1         25.0"
            ],
            "text/html": [
              "\n",
              "  <div id=\"df-92ab9e69-4c5e-483a-a4eb-def4dea53d78\" class=\"colab-df-container\">\n",
              "    <div>\n",
              "<style scoped>\n",
              "    .dataframe tbody tr th:only-of-type {\n",
              "        vertical-align: middle;\n",
              "    }\n",
              "\n",
              "    .dataframe tbody tr th {\n",
              "        vertical-align: top;\n",
              "    }\n",
              "\n",
              "    .dataframe thead th {\n",
              "        text-align: right;\n",
              "    }\n",
              "</style>\n",
              "<table border=\"1\" class=\"dataframe\">\n",
              "  <thead>\n",
              "    <tr style=\"text-align: right;\">\n",
              "      <th></th>\n",
              "      <th>Resultado</th>\n",
              "      <th>Contagem</th>\n",
              "      <th>Porcentagem</th>\n",
              "    </tr>\n",
              "  </thead>\n",
              "  <tbody>\n",
              "    <tr>\n",
              "      <th>0</th>\n",
              "      <td>Boa \\n</td>\n",
              "      <td>3</td>\n",
              "      <td>75.0</td>\n",
              "    </tr>\n",
              "    <tr>\n",
              "      <th>1</th>\n",
              "      <td>Média. \\n</td>\n",
              "      <td>1</td>\n",
              "      <td>25.0</td>\n",
              "    </tr>\n",
              "  </tbody>\n",
              "</table>\n",
              "</div>\n",
              "    <div class=\"colab-df-buttons\">\n",
              "\n",
              "  <div class=\"colab-df-container\">\n",
              "    <button class=\"colab-df-convert\" onclick=\"convertToInteractive('df-92ab9e69-4c5e-483a-a4eb-def4dea53d78')\"\n",
              "            title=\"Convert this dataframe to an interactive table.\"\n",
              "            style=\"display:none;\">\n",
              "\n",
              "  <svg xmlns=\"http://www.w3.org/2000/svg\" height=\"24px\" viewBox=\"0 -960 960 960\">\n",
              "    <path d=\"M120-120v-720h720v720H120Zm60-500h600v-160H180v160Zm220 220h160v-160H400v160Zm0 220h160v-160H400v160ZM180-400h160v-160H180v160Zm440 0h160v-160H620v160ZM180-180h160v-160H180v160Zm440 0h160v-160H620v160Z\"/>\n",
              "  </svg>\n",
              "    </button>\n",
              "\n",
              "  <style>\n",
              "    .colab-df-container {\n",
              "      display:flex;\n",
              "      gap: 12px;\n",
              "    }\n",
              "\n",
              "    .colab-df-convert {\n",
              "      background-color: #E8F0FE;\n",
              "      border: none;\n",
              "      border-radius: 50%;\n",
              "      cursor: pointer;\n",
              "      display: none;\n",
              "      fill: #1967D2;\n",
              "      height: 32px;\n",
              "      padding: 0 0 0 0;\n",
              "      width: 32px;\n",
              "    }\n",
              "\n",
              "    .colab-df-convert:hover {\n",
              "      background-color: #E2EBFA;\n",
              "      box-shadow: 0px 1px 2px rgba(60, 64, 67, 0.3), 0px 1px 3px 1px rgba(60, 64, 67, 0.15);\n",
              "      fill: #174EA6;\n",
              "    }\n",
              "\n",
              "    .colab-df-buttons div {\n",
              "      margin-bottom: 4px;\n",
              "    }\n",
              "\n",
              "    [theme=dark] .colab-df-convert {\n",
              "      background-color: #3B4455;\n",
              "      fill: #D2E3FC;\n",
              "    }\n",
              "\n",
              "    [theme=dark] .colab-df-convert:hover {\n",
              "      background-color: #434B5C;\n",
              "      box-shadow: 0px 1px 3px 1px rgba(0, 0, 0, 0.15);\n",
              "      filter: drop-shadow(0px 1px 2px rgba(0, 0, 0, 0.3));\n",
              "      fill: #FFFFFF;\n",
              "    }\n",
              "  </style>\n",
              "\n",
              "    <script>\n",
              "      const buttonEl =\n",
              "        document.querySelector('#df-92ab9e69-4c5e-483a-a4eb-def4dea53d78 button.colab-df-convert');\n",
              "      buttonEl.style.display =\n",
              "        google.colab.kernel.accessAllowed ? 'block' : 'none';\n",
              "\n",
              "      async function convertToInteractive(key) {\n",
              "        const element = document.querySelector('#df-92ab9e69-4c5e-483a-a4eb-def4dea53d78');\n",
              "        const dataTable =\n",
              "          await google.colab.kernel.invokeFunction('convertToInteractive',\n",
              "                                                    [key], {});\n",
              "        if (!dataTable) return;\n",
              "\n",
              "        const docLinkHtml = 'Like what you see? Visit the ' +\n",
              "          '<a target=\"_blank\" href=https://colab.research.google.com/notebooks/data_table.ipynb>data table notebook</a>'\n",
              "          + ' to learn more about interactive tables.';\n",
              "        element.innerHTML = '';\n",
              "        dataTable['output_type'] = 'display_data';\n",
              "        await google.colab.output.renderOutput(dataTable, element);\n",
              "        const docLink = document.createElement('div');\n",
              "        docLink.innerHTML = docLinkHtml;\n",
              "        element.appendChild(docLink);\n",
              "      }\n",
              "    </script>\n",
              "  </div>\n",
              "\n",
              "\n",
              "<div id=\"df-73e28809-dd59-463c-8e52-ab36cb860a12\">\n",
              "  <button class=\"colab-df-quickchart\" onclick=\"quickchart('df-73e28809-dd59-463c-8e52-ab36cb860a12')\"\n",
              "            title=\"Suggest charts\"\n",
              "            style=\"display:none;\">\n",
              "\n",
              "<svg xmlns=\"http://www.w3.org/2000/svg\" height=\"24px\"viewBox=\"0 0 24 24\"\n",
              "     width=\"24px\">\n",
              "    <g>\n",
              "        <path d=\"M19 3H5c-1.1 0-2 .9-2 2v14c0 1.1.9 2 2 2h14c1.1 0 2-.9 2-2V5c0-1.1-.9-2-2-2zM9 17H7v-7h2v7zm4 0h-2V7h2v10zm4 0h-2v-4h2v4z\"/>\n",
              "    </g>\n",
              "</svg>\n",
              "  </button>\n",
              "\n",
              "<style>\n",
              "  .colab-df-quickchart {\n",
              "      --bg-color: #E8F0FE;\n",
              "      --fill-color: #1967D2;\n",
              "      --hover-bg-color: #E2EBFA;\n",
              "      --hover-fill-color: #174EA6;\n",
              "      --disabled-fill-color: #AAA;\n",
              "      --disabled-bg-color: #DDD;\n",
              "  }\n",
              "\n",
              "  [theme=dark] .colab-df-quickchart {\n",
              "      --bg-color: #3B4455;\n",
              "      --fill-color: #D2E3FC;\n",
              "      --hover-bg-color: #434B5C;\n",
              "      --hover-fill-color: #FFFFFF;\n",
              "      --disabled-bg-color: #3B4455;\n",
              "      --disabled-fill-color: #666;\n",
              "  }\n",
              "\n",
              "  .colab-df-quickchart {\n",
              "    background-color: var(--bg-color);\n",
              "    border: none;\n",
              "    border-radius: 50%;\n",
              "    cursor: pointer;\n",
              "    display: none;\n",
              "    fill: var(--fill-color);\n",
              "    height: 32px;\n",
              "    padding: 0;\n",
              "    width: 32px;\n",
              "  }\n",
              "\n",
              "  .colab-df-quickchart:hover {\n",
              "    background-color: var(--hover-bg-color);\n",
              "    box-shadow: 0 1px 2px rgba(60, 64, 67, 0.3), 0 1px 3px 1px rgba(60, 64, 67, 0.15);\n",
              "    fill: var(--button-hover-fill-color);\n",
              "  }\n",
              "\n",
              "  .colab-df-quickchart-complete:disabled,\n",
              "  .colab-df-quickchart-complete:disabled:hover {\n",
              "    background-color: var(--disabled-bg-color);\n",
              "    fill: var(--disabled-fill-color);\n",
              "    box-shadow: none;\n",
              "  }\n",
              "\n",
              "  .colab-df-spinner {\n",
              "    border: 2px solid var(--fill-color);\n",
              "    border-color: transparent;\n",
              "    border-bottom-color: var(--fill-color);\n",
              "    animation:\n",
              "      spin 1s steps(1) infinite;\n",
              "  }\n",
              "\n",
              "  @keyframes spin {\n",
              "    0% {\n",
              "      border-color: transparent;\n",
              "      border-bottom-color: var(--fill-color);\n",
              "      border-left-color: var(--fill-color);\n",
              "    }\n",
              "    20% {\n",
              "      border-color: transparent;\n",
              "      border-left-color: var(--fill-color);\n",
              "      border-top-color: var(--fill-color);\n",
              "    }\n",
              "    30% {\n",
              "      border-color: transparent;\n",
              "      border-left-color: var(--fill-color);\n",
              "      border-top-color: var(--fill-color);\n",
              "      border-right-color: var(--fill-color);\n",
              "    }\n",
              "    40% {\n",
              "      border-color: transparent;\n",
              "      border-right-color: var(--fill-color);\n",
              "      border-top-color: var(--fill-color);\n",
              "    }\n",
              "    60% {\n",
              "      border-color: transparent;\n",
              "      border-right-color: var(--fill-color);\n",
              "    }\n",
              "    80% {\n",
              "      border-color: transparent;\n",
              "      border-right-color: var(--fill-color);\n",
              "      border-bottom-color: var(--fill-color);\n",
              "    }\n",
              "    90% {\n",
              "      border-color: transparent;\n",
              "      border-bottom-color: var(--fill-color);\n",
              "    }\n",
              "  }\n",
              "</style>\n",
              "\n",
              "  <script>\n",
              "    async function quickchart(key) {\n",
              "      const quickchartButtonEl =\n",
              "        document.querySelector('#' + key + ' button');\n",
              "      quickchartButtonEl.disabled = true;  // To prevent multiple clicks.\n",
              "      quickchartButtonEl.classList.add('colab-df-spinner');\n",
              "      try {\n",
              "        const charts = await google.colab.kernel.invokeFunction(\n",
              "            'suggestCharts', [key], {});\n",
              "      } catch (error) {\n",
              "        console.error('Error during call to suggestCharts:', error);\n",
              "      }\n",
              "      quickchartButtonEl.classList.remove('colab-df-spinner');\n",
              "      quickchartButtonEl.classList.add('colab-df-quickchart-complete');\n",
              "    }\n",
              "    (() => {\n",
              "      let quickchartButtonEl =\n",
              "        document.querySelector('#df-73e28809-dd59-463c-8e52-ab36cb860a12 button');\n",
              "      quickchartButtonEl.style.display =\n",
              "        google.colab.kernel.accessAllowed ? 'block' : 'none';\n",
              "    })();\n",
              "  </script>\n",
              "</div>\n",
              "\n",
              "  <div id=\"id_6ebd53d1-1de8-420d-a3b9-5d047b7cf55e\">\n",
              "    <style>\n",
              "      .colab-df-generate {\n",
              "        background-color: #E8F0FE;\n",
              "        border: none;\n",
              "        border-radius: 50%;\n",
              "        cursor: pointer;\n",
              "        display: none;\n",
              "        fill: #1967D2;\n",
              "        height: 32px;\n",
              "        padding: 0 0 0 0;\n",
              "        width: 32px;\n",
              "      }\n",
              "\n",
              "      .colab-df-generate:hover {\n",
              "        background-color: #E2EBFA;\n",
              "        box-shadow: 0px 1px 2px rgba(60, 64, 67, 0.3), 0px 1px 3px 1px rgba(60, 64, 67, 0.15);\n",
              "        fill: #174EA6;\n",
              "      }\n",
              "\n",
              "      [theme=dark] .colab-df-generate {\n",
              "        background-color: #3B4455;\n",
              "        fill: #D2E3FC;\n",
              "      }\n",
              "\n",
              "      [theme=dark] .colab-df-generate:hover {\n",
              "        background-color: #434B5C;\n",
              "        box-shadow: 0px 1px 3px 1px rgba(0, 0, 0, 0.15);\n",
              "        filter: drop-shadow(0px 1px 2px rgba(0, 0, 0, 0.3));\n",
              "        fill: #FFFFFF;\n",
              "      }\n",
              "    </style>\n",
              "    <button class=\"colab-df-generate\" onclick=\"generateWithVariable('df')\"\n",
              "            title=\"Generate code using this dataframe.\"\n",
              "            style=\"display:none;\">\n",
              "\n",
              "  <svg xmlns=\"http://www.w3.org/2000/svg\" height=\"24px\"viewBox=\"0 0 24 24\"\n",
              "       width=\"24px\">\n",
              "    <path d=\"M7,19H8.4L18.45,9,17,7.55,7,17.6ZM5,21V16.75L18.45,3.32a2,2,0,0,1,2.83,0l1.4,1.43a1.91,1.91,0,0,1,.58,1.4,1.91,1.91,0,0,1-.58,1.4L9.25,21ZM18.45,9,17,7.55Zm-12,3A5.31,5.31,0,0,0,4.9,8.1,5.31,5.31,0,0,0,1,6.5,5.31,5.31,0,0,0,4.9,4.9,5.31,5.31,0,0,0,6.5,1,5.31,5.31,0,0,0,8.1,4.9,5.31,5.31,0,0,0,12,6.5,5.46,5.46,0,0,0,6.5,12Z\"/>\n",
              "  </svg>\n",
              "    </button>\n",
              "    <script>\n",
              "      (() => {\n",
              "      const buttonEl =\n",
              "        document.querySelector('#id_6ebd53d1-1de8-420d-a3b9-5d047b7cf55e button.colab-df-generate');\n",
              "      buttonEl.style.display =\n",
              "        google.colab.kernel.accessAllowed ? 'block' : 'none';\n",
              "\n",
              "      buttonEl.onclick = () => {\n",
              "        google.colab.notebook.generateWithVariable('df');\n",
              "      }\n",
              "      })();\n",
              "    </script>\n",
              "  </div>\n",
              "\n",
              "    </div>\n",
              "  </div>\n"
            ],
            "application/vnd.google.colaboratory.intrinsic+json": {
              "type": "dataframe",
              "variable_name": "df",
              "summary": "{\n  \"name\": \"df\",\n  \"rows\": 2,\n  \"fields\": [\n    {\n      \"column\": \"Resultado\",\n      \"properties\": {\n        \"dtype\": \"string\",\n        \"num_unique_values\": 2,\n        \"samples\": [\n          \"M\\u00e9dia. \\n\",\n          \"Boa \\n\"\n        ],\n        \"semantic_type\": \"\",\n        \"description\": \"\"\n      }\n    },\n    {\n      \"column\": \"Contagem\",\n      \"properties\": {\n        \"dtype\": \"number\",\n        \"std\": 1,\n        \"min\": 1,\n        \"max\": 3,\n        \"num_unique_values\": 2,\n        \"samples\": [\n          1,\n          3\n        ],\n        \"semantic_type\": \"\",\n        \"description\": \"\"\n      }\n    },\n    {\n      \"column\": \"Porcentagem\",\n      \"properties\": {\n        \"dtype\": \"number\",\n        \"std\": 35.35533905932738,\n        \"min\": 25.0,\n        \"max\": 75.0,\n        \"num_unique_values\": 2,\n        \"samples\": [\n          25.0,\n          75.0\n        ],\n        \"semantic_type\": \"\",\n        \"description\": \"\"\n      }\n    }\n  ]\n}"
            }
          },
          "metadata": {},
          "execution_count": 27
        }
      ]
    },
    {
      "cell_type": "markdown",
      "source": [
        "Com base nas opiniões é solicitado ao modelo uma análise do produto."
      ],
      "metadata": {
        "id": "wLepkSgH_upo"
      }
    },
    {
      "cell_type": "code",
      "source": [
        "df_respostas = pd.DataFrame(opinioes)"
      ],
      "metadata": {
        "id": "Li9aiqoGqYoQ"
      },
      "execution_count": null,
      "outputs": []
    },
    {
      "cell_type": "code",
      "source": [
        "somente_respostas = df_respostas['resposta'].tolist()"
      ],
      "metadata": {
        "id": "pxQsKnu7rpIa"
      },
      "execution_count": null,
      "outputs": []
    },
    {
      "cell_type": "code",
      "source": [
        "somente_respostas"
      ],
      "metadata": {
        "colab": {
          "base_uri": "https://localhost:8080/"
        },
        "id": "M1UilY99rt5U",
        "outputId": "b079a7ea-8265-4548-8ade-c244d515943a"
      },
      "execution_count": null,
      "outputs": [
        {
          "output_type": "execute_result",
          "data": {
            "text/plain": [
              "['Cara, preciso de uma bike nova! Essa que tenho tá detonada, preciso de algo estiloso pra andar com a galera e com a família. Tava pensando numa bike leve, pra aguentar umas trilhas leves, sabe? Mas que também seja bonita pra usar na cidade. Me recomenda alguma? Ah, e de preferência que não custe um rim, né? 😅💸  Tô investindo na minha futura clínica! 😂 \\n',\n",
              " 'Aiiii que tudo! 😍 Adoro! Me fala, você prefere algo mais vintage, retrô, ou moderna? 🤔  Temos cada modelo lindooo! 💖 Perfeitas para um passeio no calçadão da praia! 🌴☀️ Imagina só, você, a família, sentindo a brisa do mar... 🌊 É tudo de bom! 🙌 Me conta mais sobre o que você busca que te mostro as melhores opções! 😉 \\n',\n",
              " 'Ai, meu bem, você quer uma bicicleta estilosa para passear com a família? Que ideia maravilhosa! Me lembra aqueles filmes coreanos, sabe? Família feliz pedalando em um dia de sol... 🥰 \\n\\nMas me fale mais, meu anjo! Você prefere cores vibrantes ou algo mais clássico? E o tamanho? Precisa ser adequada para todos, né?  E o mais importante: confortável! Não queremos ninguém cansado no meio do passeio. \\n\\nAh, e seus filhos já andam de bicicleta? Se precisar de cadeirinha, me avisa! 😉  Me conte tudo para que a gente encontre a bicicleta perfeita! 💖 \\n',\n",
              " 'Ô meu querido, você veio ao lugar certo! Família e passeio, né? Isso me lembra a gente! Olha, tenho umas bicicletas aqui que são a cara da sua família. Estilosas, leves, parece que flutuam! E bonitas? Vão fazer inveja na vizinhança! Vem cá, vou te mostrar umas belezinhas que vão deixar seus passeios ainda mais especiais. 😉 \\n']"
            ]
          },
          "metadata": {},
          "execution_count": 30
        }
      ]
    },
    {
      "cell_type": "code",
      "source": [
        "model = genai.GenerativeModel(\n",
        "    model_name = \"gemini-1.5-pro-latest\",\n",
        "    generation_config = generation_config,\n",
        "    safety_settings = safety_settings,\n",
        "    system_instruction = \"Responda com se fosse um grande analista de mercado e produto\"\n",
        ")\n",
        "\n",
        "analise = model.generate_content(\"Analise todas as opinioes contidas na lista: \" + \", \".join(somente_respostas) + \" e veja o que poderia melhorar no produto e estabeleça uma campanha de marketing\").text"
      ],
      "metadata": {
        "id": "TNs6F77nrx9W"
      },
      "execution_count": null,
      "outputs": []
    },
    {
      "cell_type": "markdown",
      "source": [
        "Resultado da análise do produto"
      ],
      "metadata": {
        "id": "po5fqVou_5I5"
      }
    },
    {
      "cell_type": "code",
      "source": [
        "print(analise)"
      ],
      "metadata": {
        "colab": {
          "base_uri": "https://localhost:8080/"
        },
        "id": "UxtXKIoIs2Ez",
        "outputId": "916206ce-39ac-4c98-931e-8fdbacd40106"
      },
      "execution_count": null,
      "outputs": [
        {
          "output_type": "stream",
          "name": "stdout",
          "text": [
            "## Análise das Opiniões e Sugestões para Campanha de Marketing de Bicicletas\n",
            "\n",
            "As opiniões coletadas revelam um público-alvo que busca bicicletas com as seguintes características:\n",
            "\n",
            "**Desejos do Consumidor:**\n",
            "\n",
            "* **Estilo:**  A bicicleta precisa ser \"estilosa\",  indicando um público que se importa com a aparência do produto e como ele os representa socialmente. \n",
            "* **Versatilidade:** Há interesse em bicicletas que sirvam tanto para trilhas leves quanto para uso urbano, evidenciando um desejo por um produto multifuncional.\n",
            "* **Leveza:**  A busca por bicicletas leves sugere a necessidade de um produto que proporcione conforto e facilidade no transporte.\n",
            "* **Preço Acessível:** A menção a \"não custar um rim\" demonstra a importância de um bom custo-benefício.\n",
            "* **Uso Familiar:**  As respostas realçam o uso da bicicleta para momentos em família, indicando a necessidade de modelos que atendam diferentes idades e tamanhos.\n",
            "\n",
            "**Pontos Fracos nas Abordagens:**\n",
            "\n",
            "* **Falta de foco em especificações:** As respostas focam em emoções e imagens idealizadas, sem abordar aspectos técnicos importantes para a escolha de uma bicicleta, como tipo de terreno, marchas, freios, material do quadro, etc.\n",
            "* **Profundidade da conversa:**  As perguntas são superficiais e não exploram as necessidades reais do cliente.  Entender o tipo de trilha, a frequência de uso, a idade dos filhos, etc., seria crucial.\n",
            "\n",
            "## Sugestões para Campanha de Marketing:\n",
            "\n",
            "**Produto:**\n",
            "\n",
            "* **Oferecer uma linha de bicicletas que atenda à versatilidade desejada:** Modelos híbridos, que combinem características de bicicletas urbanas e de montanha, seriam ideais.\n",
            "* **Priorizar materiais leves e resistentes:** Investir em quadros de alumínio ou fibra de carbono para garantir leveza e durabilidade.\n",
            "* **Criar design moderno e atrativo:**  Oferecer opções de cores e grafismos que se conectem com o público-alvo.\n",
            "\n",
            "**Campanha de Marketing:**\n",
            "\n",
            "* **Utilizar imagens e vídeos que transmitam o estilo de vida desejado pelo público:** Mostrar famílias felizes utilizando as bicicletas em diferentes cenários (cidade, parques, trilhas leves).\n",
            "* **Destacar a versatilidade do produto:** Enfatizar a capacidade da bicicleta de atender diferentes necessidades,  ilustrando seu uso em trilhas leves e no dia a dia urbano.\n",
            "* **Abordar os benefícios da leveza da bicicleta:**  Mostrar como a leveza facilita o transporte e proporciona uma experiência mais prazerosa.\n",
            "* **Criar conteúdo informativo que auxilie na escolha da bicicleta ideal:**  Produzir vídeos e artigos que expliquem os diferentes tipos de bicicleta, materiais, componentes e tecnologias.\n",
            "* **Oferecer test-rides para que os clientes experimentem a bicicleta antes da compra:**  Permitir que o público vivencie os benefícios do produto em primeira mão.\n",
            "* **Desenvolver promoções e ofertas especiais para famílias:**  Criar pacotes com descontos na compra de duas ou mais bicicletas.\n",
            "\n",
            "**Linguagem:**\n",
            "\n",
            "* **Manter o tom acolhedor e amigável, mas adicionar um toque de expertise:** Demonstrar conhecimento técnico sem perder a empatia.\n",
            "* **Utilizar frases que evoquem o prazer de pedalar em família:**  \"Crie memórias inesquecíveis\", \"Aventura para todas as idades\", \"Compartilhe momentos especiais\".\n",
            "\n",
            "Ao combinar um produto que atenda às necessidades do público com uma campanha de marketing eficaz, a empresa poderá atrair clientes em busca de bicicletas estilosas, versáteis, leves e com bom custo-benefício. \n",
            "\n"
          ]
        }
      ]
    },
    {
      "cell_type": "code",
      "source": [],
      "metadata": {
        "id": "yNtyIT_etd73"
      },
      "execution_count": null,
      "outputs": []
    }
  ]
}